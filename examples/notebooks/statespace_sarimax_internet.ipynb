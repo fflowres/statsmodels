{
 "metadata": {
  "name": "",
  "signature": "sha256:93bcb4397fb6d395337675aee53794c3b2d7e63770352fe8c97c4f3a5f853be4"
 },
 "nbformat": 3,
 "nbformat_minor": 0,
 "worksheets": [
  {
   "cells": [
    {
     "cell_type": "markdown",
     "metadata": {},
     "source": [
      "## Durbin and Koopman: Box-Jenkins Examples\n",
      "\n",
      "See Durbin and Koopman (2012), Chapter 8.4"
     ]
    },
    {
     "cell_type": "code",
     "collapsed": false,
     "input": [
      "%matplotlib inline"
     ],
     "language": "python",
     "metadata": {},
     "outputs": []
    },
    {
     "cell_type": "code",
     "collapsed": false,
     "input": [
      "import numpy as np\n",
      "import pandas as pd\n",
      "import statsmodels.api as sm\n",
      "import matplotlib.pyplot as plt"
     ],
     "language": "python",
     "metadata": {},
     "outputs": []
    },
    {
     "cell_type": "code",
     "collapsed": false,
     "input": [
      "import requests\n",
      "from StringIO import StringIO\n",
      "from zipfile import ZipFile\n",
      "\n",
      "# Download the dataset\n",
      "dk = requests.get('http://www.ssfpack.com/files/DK-data.zip').content\n",
      "zipped = ZipFile(StringIO(dk))\n",
      "df = pd.read_table(\n",
      "    StringIO(zipped.read('internet.dat')),\n",
      "    skiprows=1, header=None, sep='\\s+', engine='python',\n",
      "    names=['internet','dinternet']\n",
      ")"
     ],
     "language": "python",
     "metadata": {},
     "outputs": []
    },
    {
     "cell_type": "code",
     "collapsed": false,
     "input": [
      "# Get the basic series\n",
      "dinternet = df.dinternet[1:].values\n",
      "\n",
      "# Remove datapoints\n",
      "missing = np.r_[6,16,26,36,46,56,66,72,73,74,75,76,86,96]-1\n",
      "dinternet[missing] = np.nan\n",
      "\n",
      "# Statespace\n",
      "mod = sm.tsa.statespace.SARIMAX(dinternet, order=(1,0,1))\n",
      "res = mod.fit()\n",
      "print res.summary()"
     ],
     "language": "python",
     "metadata": {},
     "outputs": []
    },
    {
     "cell_type": "code",
     "collapsed": false,
     "input": [
      "# Graph\n",
      "fig, ax = plt.subplots(figsize=(12,6))\n",
      "\n",
      "ax.grid()\n",
      "ax.plot(dinternet, 'k.')\n",
      "\n",
      "# In-sample one-step-ahead predictions and confidence intervals\n",
      "predict, predict_error_cov, confidence_intervals, index = res.predict()\n",
      "ax.plot(index, predict[0], 'gray');\n",
      "ax.plot(index, confidence_intervals[0], 'gray', linestyle=':')\n",
      "\n",
      "# Out-of-sample forecasts and confidence intervals\n",
      "forecast, forecast_error_cov, confidence_intervals, index = res.forecast(20, alpha=0.5)\n",
      "ax.plot(index, forecast[0], 'k--', linestyle='--', linewidth=2)\n",
      "ax.plot(index, confidence_intervals[0], 'k');\n",
      "\n",
      "ax.set(title='Figure 8.9 - Internet series');"
     ],
     "language": "python",
     "metadata": {},
     "outputs": []
    }
   ],
   "metadata": {}
  }
 ]
}