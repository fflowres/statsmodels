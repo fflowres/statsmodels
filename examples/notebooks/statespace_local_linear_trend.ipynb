{
 "metadata": {
  "name": "",
  "signature": "sha256:20251ed6a85a9a1bcda6ee41aa85b98495f583602268c1ef8c1d8d1c46a32bc0"
 },
 "nbformat": 3,
 "nbformat_minor": 0,
 "worksheets": [
  {
   "cells": [
    {
     "cell_type": "code",
     "collapsed": false,
     "input": [
      "%matplotlib inline\n",
      "\n",
      "import numpy as np\n",
      "import pandas as pd\n",
      "from statsmodels.tsa.statespace import MLEModel, MLEResults\n",
      "import matplotlib.pyplot as plt"
     ],
     "language": "python",
     "metadata": {},
     "outputs": []
    },
    {
     "cell_type": "markdown",
     "metadata": {},
     "source": [
      "## Local Linear Trend model\n",
      "\n",
      "The Local Linear Trend model has the form (see Durbin and Koopman 2012, Chapter 3.2 for all notation and details):\n",
      "\n",
      "$$\n",
      "\\begin{align}\n",
      "y_t & = \\mu_t + \\varepsilon_t \\qquad & \\varepsilon_t \\sim\n",
      "    N(0, \\sigma_\\varepsilon^2) \\\\\n",
      "\\mu_{t+1} & = \\mu_t + \\nu_t + \\xi_t & \\xi_t \\sim N(0, \\sigma_\\xi^2) \\\\\n",
      "\\nu_{t+1} & = \\nu_t + \\zeta_t & \\zeta_t \\sim N(0, \\sigma_\\zeta^2)\n",
      "\\end{align}\n",
      "$$\n",
      "\n",
      "It is easy to see that this can be cast into state space form as:\n",
      "\n",
      "$$\n",
      "\\begin{align}\n",
      "y_t & = \\begin{pmatrix} 1 & 0 \\end{pmatrix} \\begin{pmatrix} \\mu_t \\\\ \\nu_t \\end{pmatrix} + \\varepsilon_t \\\\\n",
      "\\begin{pmatrix} \\mu_{t+1} \\\\ \\nu_{t+1} \\end{pmatrix} & = \\begin{bmatrix} 1 & 1 \\\\ 0 & 1 \\end{bmatrix} \\begin{pmatrix} \\mu_t \\\\ \\nu_t \\end{pmatrix} + \\begin{pmatrix} \\xi_t \\\\ \\zeta_t \\end{pmatrix}\n",
      "\\end{align}\n",
      "$$\n",
      "\n",
      "Notice that much of the state space representation is composed of known values; in fact the only parts in which parameters to be estimated appear are in the variance / covariance matrices:\n",
      "\n",
      "$$\n",
      "\\begin{align}\n",
      "H_t & = \\begin{bmatrix} \\sigma_\\varepsilon^2 \\end{bmatrix} \\\\\n",
      "Q_t & = \\begin{bmatrix} \\sigma_\\xi^2 & 0 \\\\ 0 & \\sigma_\\zeta^2 \\end{bmatrix}\n",
      "\\end{align}\n",
      "$$"
     ]
    },
    {
     "cell_type": "code",
     "collapsed": false,
     "input": [
      "\"\"\"\n",
      "Univariate Local Linear Trend Model\n",
      "\"\"\"\n",
      "class LocalLinearTrend(MLEModel):\n",
      "    def __init__(self, endog, *args, **kwargs):\n",
      "        # Model order\n",
      "        k_states = k_posdef = 2\n",
      "\n",
      "        # Initialize the statespace\n",
      "        super(LocalLinearTrend, self).__init__(\n",
      "            endog, k_states=k_states, k_posdef=k_posdef, *args, **kwargs\n",
      "        )\n",
      "\n",
      "        # Initialize the matrices\n",
      "        self['design'] = np.array([1, 0])\n",
      "        self['transition'] = np.array([[1, 1],\n",
      "                                       [0, 1]])\n",
      "        self['selection'] = np.eye(k_states)\n",
      "\n",
      "        # Initialize the state space model as approximately diffuse\n",
      "        self.initialize_approximate_diffuse()\n",
      "        # Because of the diffuse initialization, burn first two loglikelihoods\n",
      "        self.loglikelihood_burn = 2\n",
      "        \n",
      "        # Cache some indices\n",
      "        self._state_cov_idx = ('state_cov',) + np.diag_indices(k_posdef)\n",
      "\n",
      "    _names = ['sigma2.measurement', 'sigma2.level', 'sigma2.trend']\n",
      "    def _get_model_names(self, latex=False):\n",
      "        return self._names\n",
      "\n",
      "    @property\n",
      "    def start_params(self):\n",
      "        return np.r_[0.1, 0.1, 0.1]\n",
      "\n",
      "    def transform_params(self, unconstrained):\n",
      "        return unconstrained**2\n",
      "\n",
      "    def untransform_params(self, constrained):\n",
      "        return constrained**0.5\n",
      "\n",
      "    def update(self, params, *args, **kwargs):\n",
      "        params = super(LocalLinearTrend, self).update(params, *args, **kwargs)\n",
      "        \n",
      "        # Observation covariance\n",
      "        self['obs_cov',0,0] = params[0]\n",
      "\n",
      "        # State covariance\n",
      "        self[self._state_cov_idx] = params[1:]"
     ],
     "language": "python",
     "metadata": {},
     "outputs": []
    },
    {
     "cell_type": "markdown",
     "metadata": {},
     "source": [
      "Using this simple model, we can estimate the parameters from a local linear trend model. The following example is from Commandeur and Koopman (2007), section 3.4., modeling motor vehicle fatalities in Finland."
     ]
    },
    {
     "cell_type": "code",
     "collapsed": false,
     "input": [
      "import requests\n",
      "from StringIO import StringIO\n",
      "from zipfile import ZipFile\n",
      "\n",
      "    \n",
      "# Download the dataset\n",
      "ck = requests.get('http://staff.feweb.vu.nl/koopman/projects/ckbook/OxCodeAll.zip').content\n",
      "zipped = ZipFile(StringIO(ck))\n",
      "df = pd.read_table(\n",
      "    StringIO(zipped.read('OxCodeIntroStateSpaceBook/Chapter_2/NorwayFinland.txt')),\n",
      "    skiprows=1, header=None, sep='\\s+', engine='python',\n",
      "    names=['date','nf', 'ff']\n",
      ")"
     ],
     "language": "python",
     "metadata": {},
     "outputs": []
    },
    {
     "cell_type": "code",
     "collapsed": false,
     "input": [
      "# Load Dataset\n",
      "df.index = pd.date_range(start='%d-01-01' % df.date[0], end='%d-01-01' % df.iloc[-1, 0], freq='AS')\n",
      "\n",
      "# Log transform\n",
      "df['lff'] = np.log(df['ff'])\n",
      "\n",
      "# Setup the model\n",
      "mod = LocalLinearTrend(df['lff'])\n",
      "\n",
      "# Fit it using MLE (recall that we are fitting the three variance parameters)\n",
      "res = mod.fit()\n",
      "print(res.summary())"
     ],
     "language": "python",
     "metadata": {},
     "outputs": []
    },
    {
     "cell_type": "code",
     "collapsed": false,
     "input": [
      "fig, ax = plt.subplots(figsize=(10,4))\n",
      "\n",
      "# Perform prediction and forecasting\n",
      "predict, cov, ci, idx = res.predict(alpha=0.05, end='2014')\n",
      "\n",
      "# Plot the results\n",
      "dates = df.index._mpl_repr()\n",
      "ax.plot(dates, df['lff'], 'k.', label='Observations');\n",
      "ax.plot(idx[:-10], predict[0][:-10], label='One-step-ahead Prediction');\n",
      "ax.plot(idx[:-10], ci[0, :-10], 'k--', alpha=0.5);\n",
      "\n",
      "ax.plot(idx[-10:], predict[0][-10:], 'r', label='Forecast');\n",
      "ax.plot(idx[-10:], ci[0, -10:], 'k--', alpha=0.5);\n",
      "\n",
      "# Cleanup the image\n",
      "ax.set_ylim((4, 8));\n",
      "legend = ax.legend(loc='lower left');\n",
      "legend.get_frame().set_facecolor('w')"
     ],
     "language": "python",
     "metadata": {},
     "outputs": []
    },
    {
     "cell_type": "markdown",
     "metadata": {},
     "source": [
      "### References\n",
      "\n",
      "    Commandeur, Jacques J. F., and Siem Jan Koopman. 2007.\n",
      "    An Introduction to State Space Time Series Analysis.\n",
      "    Oxford\u202f; New York: Oxford University Press.\n",
      "\n",
      "    Durbin, James, and Siem Jan Koopman. 2012.\n",
      "    Time Series Analysis by State Space Methods: Second Edition.\n",
      "    Oxford University Press."
     ]
    }
   ],
   "metadata": {}
  }
 ]
}