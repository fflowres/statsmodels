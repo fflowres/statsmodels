{
 "metadata": {
  "name": "",
  "signature": "sha256:5731e62f420fd151b8ba54cb3e711868a7be37a04a2779389303f8344d760e3f"
 },
 "nbformat": 3,
 "nbformat_minor": 0,
 "worksheets": [
  {
   "cells": [
    {
     "cell_type": "markdown",
     "metadata": {},
     "source": [
      "## Stata ARIMA Examples\n",
      "\n",
      "See http://www.stata.com/manuals13/tsarima.pdf Examples 1-4\n",
      "\n",
      "and http://www.stata.com/manuals13/tsarimapostestimation.pdf Example 1"
     ]
    },
    {
     "cell_type": "code",
     "collapsed": false,
     "input": [
      "%matplotlib inline"
     ],
     "language": "python",
     "metadata": {},
     "outputs": []
    },
    {
     "cell_type": "code",
     "collapsed": false,
     "input": [
      "import numpy as np\n",
      "import pandas as pd\n",
      "from scipy.stats import norm\n",
      "import statsmodels.api as sm\n",
      "import matplotlib.pyplot as plt\n",
      "from datetime import datetime\n",
      "import requests\n",
      "from StringIO import StringIO"
     ],
     "language": "python",
     "metadata": {},
     "outputs": []
    },
    {
     "cell_type": "markdown",
     "metadata": {},
     "source": [
      "### ARIMA Example 1: Arima"
     ]
    },
    {
     "cell_type": "code",
     "collapsed": false,
     "input": [
      "# Dataset\n",
      "wpi1 = requests.get('http://www.stata-press.com/data/r12/wpi1.dta').content\n",
      "data = pd.read_stata(StringIO(wpi1))\n",
      "data.index = data.t\n",
      "\n",
      "# Fit the model\n",
      "mod = sm.tsa.statespace.SARIMAX(data['wpi'], trend='c', order=(1,1,1))\n",
      "res = mod.fit()\n",
      "print res.summary()"
     ],
     "language": "python",
     "metadata": {},
     "outputs": []
    },
    {
     "cell_type": "markdown",
     "metadata": {},
     "source": [
      "### ARIMA Example 2: Arima with additive seasonal effects"
     ]
    },
    {
     "cell_type": "code",
     "collapsed": false,
     "input": [
      "# Dataset\n",
      "data = pd.read_stata(StringIO(wpi1))\n",
      "data.index = data.t\n",
      "data['ln_wpi'] = np.log(data['wpi'])\n",
      "data['D.ln_wpi'] = data['ln_wpi'].diff()"
     ],
     "language": "python",
     "metadata": {},
     "outputs": []
    },
    {
     "cell_type": "code",
     "collapsed": false,
     "input": [
      "# Graph data\n",
      "fig, axes = plt.subplots(1, 2, figsize=(15,4))\n",
      "\n",
      "# Levels\n",
      "axes[0].plot(data.index._mpl_repr(), data['wpi'], '-')\n",
      "axes[0].set(title='US Wholesale Price Index')\n",
      "\n",
      "# Log difference\n",
      "axes[1].plot(data.index._mpl_repr(), data['D.ln_wpi'], '-')\n",
      "axes[1].hlines(0, data.index[0], data.index[-1], 'r')\n",
      "axes[1].set(title='US Wholesale Price Index - difference of logs');"
     ],
     "language": "python",
     "metadata": {},
     "outputs": []
    },
    {
     "cell_type": "code",
     "collapsed": false,
     "input": [
      "# Graph data\n",
      "fig, axes = plt.subplots(1, 2, figsize=(15,4))\n",
      "\n",
      "fig = sm.graphics.tsa.plot_acf(data.ix[1:, 'D.ln_wpi'], lags=40, ax=axes[0])\n",
      "fig = sm.graphics.tsa.plot_pacf(data.ix[1:, 'D.ln_wpi'], lags=40, ax=axes[1])"
     ],
     "language": "python",
     "metadata": {},
     "outputs": []
    },
    {
     "cell_type": "code",
     "collapsed": false,
     "input": [
      "# Fit the model\n",
      "mod = sm.tsa.statespace.SARIMAX(data['ln_wpi'], trend='c', order=(1,1,(1,0,0,1)))\n",
      "res = mod.fit()\n",
      "print res.summary()"
     ],
     "language": "python",
     "metadata": {},
     "outputs": []
    },
    {
     "cell_type": "markdown",
     "metadata": {},
     "source": [
      "### ARIMA Example 3: Airline Model"
     ]
    },
    {
     "cell_type": "code",
     "collapsed": false,
     "input": [
      "# Dataset\n",
      "air2 = requests.get('http://www.stata-press.com/data/r12/air2.dta').content\n",
      "data = pd.read_stata(StringIO(air2))\n",
      "data.index = pd.date_range(start=datetime(data.time[0], 1, 1), periods=len(data), freq='MS')\n",
      "data['lnair'] = np.log(data['air'])\n",
      "\n",
      "# Fit the model\n",
      "mod = sm.tsa.statespace.SARIMAX(data['lnair'], order=(2,1,0), seasonal_order=(1,1,0,12), simple_differencing=True)\n",
      "res = mod.fit()\n",
      "print res.summary()"
     ],
     "language": "python",
     "metadata": {},
     "outputs": []
    },
    {
     "cell_type": "markdown",
     "metadata": {},
     "source": [
      "### ARIMA Example 4: ARMAX (Friedman)"
     ]
    },
    {
     "cell_type": "code",
     "collapsed": false,
     "input": [
      "# Dataset\n",
      "friedman2 = requests.get('http://www.stata-press.com/data/r12/friedman2.dta').content\n",
      "data = pd.read_stata(StringIO(friedman2))\n",
      "data.index = data.time\n",
      "\n",
      "# Variables\n",
      "endog = data.ix['1959':'1981', 'consump']\n",
      "exog = sm.add_constant(data.ix['1959':'1981', 'm2'])\n",
      "\n",
      "# Fit the model\n",
      "mod = sm.tsa.statespace.SARIMAX(endog, exog, order=(1,0,1))\n",
      "res = mod.fit()\n",
      "print res.summary()"
     ],
     "language": "python",
     "metadata": {},
     "outputs": []
    },
    {
     "cell_type": "markdown",
     "metadata": {},
     "source": [
      "### ARIMA Postestimation: Example 1 - Dynamic Forecasting"
     ]
    },
    {
     "cell_type": "code",
     "collapsed": false,
     "input": [
      "# Dataset\n",
      "raw = pd.read_stata(StringIO(friedman2))\n",
      "raw.index = raw.time\n",
      "data = raw.ix[:'1981']\n",
      "\n",
      "# Variables\n",
      "endog = data.ix['1959':, 'consump']\n",
      "exog = sm.add_constant(data.ix['1959':, 'm2'])\n",
      "nobs = endog.shape[0]\n",
      "\n",
      "# Fit the model\n",
      "mod = sm.tsa.statespace.SARIMAX(endog.ix[:'1978-01-01'], exog=exog.ix[:'1978-01-01'], order=(1,0,1))\n",
      "fit_res = mod.fit()\n",
      "print fit_res.summary()"
     ],
     "language": "python",
     "metadata": {},
     "outputs": []
    },
    {
     "cell_type": "code",
     "collapsed": false,
     "input": [
      "# Prediction\n",
      "npredict = data.ix['1978-01-01':].shape[0]\n",
      "mod = sm.tsa.statespace.SARIMAX(endog, exog=exog, order=(1,0,1))\n",
      "mod.update(fit_res.params)\n",
      "res = mod.filter()\n",
      "\n",
      "# Graph\n",
      "fig, ax = plt.subplots(figsize=(9,4))\n",
      "npre = 4\n",
      "ax.set(title='Personal consumption', xlabel='Date', ylabel='Billions of dollars')\n",
      "dates = data.index[-npredict-npre+1:]._mpl_repr()\n",
      "ax.plot(dates, data.ix[-npredict-npre+1:, 'consump'], 'o', label='Observed')\n",
      "\n",
      "# In-sample one-step-ahead predictions\n",
      "predict_res = res.predict(full_results=True)\n",
      "\n",
      "predict = predict_res.forecasts\n",
      "cov = predict_res.forecasts_error_cov\n",
      "idx = res.data.predict_dates._mpl_repr()\n",
      "\n",
      "# 95% confidence intervals\n",
      "critical_value = norm.ppf(1 - 0.05 / 2.)\n",
      "std_errors = np.sqrt(cov.diagonal().T)\n",
      "ci = np.c_[\n",
      "    (predict - critical_value*std_errors)[:, :, None],\n",
      "    (predict + critical_value*std_errors)[:, :, None],\n",
      "]\n",
      "\n",
      "# Plot predictions\n",
      "ax.plot(idx[-npredict-npre:], predict[0, -npredict-npre:], 'r--', label='One-step-ahead forecast');\n",
      "ax.plot(idx[-npredict-npre:], ci[0, -npredict-npre:], 'r--', alpha=0.3);\n",
      "\n",
      "# Dynamic predictions\n",
      "predict_dy_res = res.predict(dynamic=nobs-npredict-1, full_results=True)\n",
      "\n",
      "predict_dy = predict_dy_res.forecasts\n",
      "cov_dy = predict_dy_res.forecasts_error_cov\n",
      "#idx_dy = res.data.predict_dates._mpl_repr()\n",
      "\n",
      "# 95% confidence intervals\n",
      "critical_value = norm.ppf(1 - 0.05 / 2.)\n",
      "std_errors_dy = np.sqrt(cov.diagonal().T)\n",
      "ci_dy = np.c_[\n",
      "    (predict_dy - critical_value*std_errors_dy)[:, :, None],\n",
      "    (predict_dy + critical_value*std_errors_dy)[:, :, None],\n",
      "]\n",
      "\n",
      "ax.plot(idx_dy[-npredict-npre:], predict_dy[0, -npredict-npre:], 'g', label='Dynamic forecast (1978)');\n",
      "ax.plot(idx_dy[-npredict-npre:], ci_dy[0, -npredict-npre:], 'g:', alpha=0.3);\n",
      "\n",
      "legend = ax.legend(loc='lower right')\n",
      "legend.get_frame().set_facecolor('w')"
     ],
     "language": "python",
     "metadata": {},
     "outputs": []
    },
    {
     "cell_type": "code",
     "collapsed": false,
     "input": [
      "# Prediction error\n",
      "\n",
      "# Graph\n",
      "fig, ax = plt.subplots(figsize=(9,4))\n",
      "npre = 4\n",
      "ax.set(title='Forecast error', xlabel='Date', ylabel='Forecast - Actual')\n",
      "\n",
      "# In-sample one-step-ahead predictions and 95% confidence intervals (forecast without data)\n",
      "predict_error = predict[0, -npredict-1:] - endog.iloc[-npredict-1:]\n",
      "predict_ci = ci[0, -npredict-1:] - endog.iloc[-npredict-1:][:, None]\n",
      "ax.plot(idx[-npredict-1:], predict_error, label='One-step-ahead forecast');\n",
      "ax.plot(idx[-npredict-1:], predict_ci, 'b--', alpha=0.4)\n",
      "\n",
      "# Dynamic predictions and 95% confidence intervals\n",
      "predict_dy_error = predict_dy[0, -npredict-1:] - endog.iloc[-npredict-1:]\n",
      "predict_dy_ci = ci_dy[0, -npredict-1:] - endog.iloc[-npredict-1:][:, None]\n",
      "ax.plot(idx[-npredict-1:], predict_dy_error, 'r', label='Dynamic forecast (1978)');\n",
      "ax.plot(idx[-npredict-1:], predict_dy_ci, 'r--', alpha=0.4)\n",
      "\n",
      "legend = ax.legend(loc='lower left');\n",
      "legend.get_frame().set_facecolor('w')"
     ],
     "language": "python",
     "metadata": {},
     "outputs": []
    }
   ],
   "metadata": {}
  }
 ]
}